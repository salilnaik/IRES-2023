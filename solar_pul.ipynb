{
  "nbformat": 4,
  "nbformat_minor": 0,
  "metadata": {
    "colab": {
      "provenance": [],
      "gpuType": "T4"
    },
    "kernelspec": {
      "name": "python3",
      "display_name": "Python 3"
    },
    "language_info": {
      "name": "python"
    },
    "accelerator": "TPU"
  },
  "cells": [
    {
      "cell_type": "code",
      "source": [
        "from sklearn.datasets import make_blobs\n",
        "from sklearn.utils import shuffle\n",
        "import matplotlib.pyplot as plt\n",
        "import pandas as pd\n",
        "import numpy as np\n",
        "\n",
        "from sklearn.preprocessing import normalize\n",
        "from keras.models import Sequential\n",
        "from keras.layers import Dense, Flatten, Activation, Dropout, Input\n",
        "from keras.optimizers import Adam\n",
        "from keras.losses import BinaryFocalCrossentropy\n",
        "from sklearn.metrics import confusion_matrix, ConfusionMatrixDisplay"
      ],
      "metadata": {
        "id": "8hbYs2uYxDMU"
      },
      "execution_count": null,
      "outputs": []
    },
    {
      "cell_type": "code",
      "execution_count": null,
      "metadata": {
        "id": "PeL_L-n8wzsu",
        "colab": {
          "base_uri": "https://localhost:8080/",
          "height": 104
        },
        "outputId": "3f34bef1-6a4d-419f-9f1d-0f184e05667e"
      },
      "outputs": [
        {
          "output_type": "execute_result",
          "data": {
            "text/plain": [
              "\"\\n# generate 2d classification dataset\\npX, py = make_blobs(n_samples=50, center_box=[0,10], cluster_std=3, centers=[[9,0]], n_features=2)\\npy[:] = 1\\nnX, ny = make_blobs(n_samples=50, center_box=[0,10], cluster_std=3, centers=[[0,9]], n_features=2)\\nu_X, u_y = make_blobs(n_samples=100, center_box=[0,10], cluster_std=3, centers=[[0,9], [9,0]], n_features=2)\\nuX = np.append(u_X, nX, axis=0)\\nuy = np.append(u_y, ny)\\nbefore_uy = uy.copy()\\nuy[:]=2\\nX = np.append(pX[:,0], uX[:,0])\\ny = np.append(pX[:,1], uX[:,1])\\nlabel = np.append(py,uy)\\n# scatter plot, dots colored by class value\\ndf = DataFrame(dict(x=X, y=y, label=label))\\ncolors = {0:'red', 1:'blue', 2:'gray'}\\nfig, ax = plt.subplots()\\ngrouped = df.groupby('label')\\nfor key, group in grouped:\\n    group.plot(ax=ax, kind='scatter', x='x', y='y', label=key, color=colors[key])\\nplt.show()\\n\""
            ],
            "application/vnd.google.colaboratory.intrinsic+json": {
              "type": "string"
            }
          },
          "metadata": {},
          "execution_count": 9
        }
      ],
      "source": [
        "\"\"\"\n",
        "# generate 2d classification dataset\n",
        "pX, py = make_blobs(n_samples=50, center_box=[0,10], cluster_std=3, centers=[[9,0]], n_features=2)\n",
        "py[:] = 1\n",
        "nX, ny = make_blobs(n_samples=50, center_box=[0,10], cluster_std=3, centers=[[0,9]], n_features=2)\n",
        "u_X, u_y = make_blobs(n_samples=100, center_box=[0,10], cluster_std=3, centers=[[0,9], [9,0]], n_features=2)\n",
        "uX = np.append(u_X, nX, axis=0)\n",
        "uy = np.append(u_y, ny)\n",
        "before_uy = uy.copy()\n",
        "uy[:]=2\n",
        "X = np.append(pX[:,0], uX[:,0])\n",
        "y = np.append(pX[:,1], uX[:,1])\n",
        "label = np.append(py,uy)\n",
        "# scatter plot, dots colored by class value\n",
        "df = DataFrame(dict(x=X, y=y, label=label))\n",
        "colors = {0:'red', 1:'blue', 2:'gray'}\n",
        "fig, ax = plt.subplots()\n",
        "grouped = df.groupby('label')\n",
        "for key, group in grouped:\n",
        "    group.plot(ax=ax, kind='scatter', x='x', y='y', label=key, color=colors[key])\n",
        "plt.show()\n",
        "\"\"\""
      ]
    },
    {
      "cell_type": "code",
      "source": [
        "X = pd.read_csv(\"fault.txt\", sep='\\t')\n",
        "tempy = pd.read_csv(\"faultlabel.txt\", sep='\\t')\n",
        "X = X.to_numpy()\n",
        "tempy = tempy.to_numpy()\n",
        "y = list(map(np.argmax, tempy))\n",
        "nX = []\n",
        "ny = []\n",
        "pX = []\n",
        "py = []\n",
        "for i, x in enumerate(y):\n",
        "  if(x == 0):\n",
        "    nX.append(X[i])\n",
        "    ny.append(y[i])\n",
        "  else:\n",
        "    pX.append(X[i])\n",
        "    py.append(y[i])\n",
        "nl = int(0.75 * len(pX))\n",
        "u_X = pX[:nl]\n",
        "u_y = py[:nl]\n",
        "pX = pX[nl:]\n",
        "py = py[nl:]\n",
        "uX = np.append(u_X, nX, axis=0)\n",
        "uy = np.append(u_y, ny, axis=0)\n",
        "before_uy = uy.copy()\n",
        "uy[:] = 2\n",
        "totalX = np.append(uX, pX, axis=0)\n",
        "totaly = np.append(before_uy, py, axis=0)"
      ],
      "metadata": {
        "id": "cm8HkxUH6STx"
      },
      "execution_count": null,
      "outputs": []
    },
    {
      "cell_type": "code",
      "source": [
        "unpX = pX.copy()\n",
        "unuX = uX.copy()\n",
        "pX = normalize(pX, axis=0)\n",
        "uX = normalize(uX, axis=0)\n",
        "uy = uy.astype(np.float32)\n",
        "pX, py = shuffle(pX, py)\n",
        "repeat = True\n",
        "reps=5\n",
        "while repeat or reps>0:\n",
        "  uX, uy, before_uy = shuffle(uX, uy, before_uy)\n",
        "  sl = len(pX)\n",
        "  bagX = uX[:sl]\n",
        "  bagy = uy[:sl]\n",
        "  unbagX = uX[sl:]\n",
        "  unbagy = uy[sl:]\n",
        "  X = np.append(pX, bagX, axis=0)\n",
        "  y = np.append(py, np.zeros_like(bagy), axis=0)\n",
        "  X, y = shuffle(X, y)\n",
        "\n",
        "  model = Sequential()\n",
        "  model.add(Dense(20, input_shape=(9,)))\n",
        "  model.add(Dense(50, activation='tanh'))\n",
        "  model.add(Dense(50, activation='tanh'))\n",
        "  model.add(Dense(1, activation='sigmoid'))\n",
        "  optimizer = Adam(learning_rate=0.05)\n",
        "  model.compile(loss=\"binary_crossentropy\", optimizer=optimizer, metrics=['accuracy'])\n",
        "  history = model.fit(X, y, epochs=20, verbose=0)\n",
        "  outputs = model.predict(unbagX, verbose=0)\n",
        "  repeat = False\n",
        "  reps-=1\n",
        "  for i, x in enumerate(unbagy):\n",
        "    if(x==2):\n",
        "      repeat = True\n",
        "      unbagy[i] = float(outputs[i])\n",
        "    else:\n",
        "      unbagy[i] = float((x+outputs[i])/2.0)\n",
        "  if(repeat):\n",
        "    reps+=1\n",
        "  print(repeat, reps, np.average(uy))"
      ],
      "metadata": {
        "id": "0wY3KjKZ7s52",
        "colab": {
          "base_uri": "https://localhost:8080/"
        },
        "outputId": "4ea54fe1-9d72-47a4-c49d-4f39d8b95008"
      },
      "execution_count": null,
      "outputs": [
        {
          "output_type": "stream",
          "name": "stdout",
          "text": [
            "True 5 0.28575417\n",
            "True 5 0.038847428\n",
            "True 5 0.005005789\n",
            "True 5 0.0011139992\n",
            "True 5 0.00035868897\n",
            "False 4 0.00038379585\n",
            "False 3 0.00031802405\n",
            "False 2 0.00035902768\n",
            "False 1 0.0001801922\n",
            "False 0 0.00030213987\n"
          ]
        }
      ]
    },
    {
      "cell_type": "code",
      "source": [
        "from keras.activations import sigmoid\n",
        "print(np.average(uy), np.median(uy))\n",
        "plt.hist(uy, 50)\n",
        "plt.yscale(\"log\")\n",
        "#plt.vlines(np.average(uy), 0, 10000, color='red')\n",
        "plt.show()"
      ],
      "metadata": {
        "colab": {
          "base_uri": "https://localhost:8080/",
          "height": 449
        },
        "id": "vObfIRd_fjBO",
        "outputId": "b02071e6-2f7e-4958-afd5-0b96e62189e4"
      },
      "execution_count": null,
      "outputs": [
        {
          "output_type": "stream",
          "name": "stdout",
          "text": [
            "0.00030213987 8.2486326e-07\n"
          ]
        },
        {
          "output_type": "display_data",
          "data": {
            "text/plain": [
              "<Figure size 640x480 with 1 Axes>"
            ],
            "image/png": "[encoded data removed]"
          },
          "metadata": {}
        }
      ]
    },
    {
      "cell_type": "code",
      "source": [
        "model = Sequential()\n",
        "model.add(Dense(20, input_shape=(9,)))\n",
        "model.add(Dense(20, activation='sigmoid'))\n",
        "model.add(Dense(20, activation='sigmoid'))\n",
        "model.add(Dense(1, activation='sigmoid'))\n",
        "optimizer = Adam(learning_rate=0.05)\n",
        "model.compile(loss=\"mse\", optimizer=optimizer, metrics=['accuracy'])\n",
        "history = model.fit(uX, np.around(uy), epochs=10, verbose=1)\n",
        "score = model.evaluate(totalX, totaly)\n",
        "print(score)"
      ],
      "metadata": {
        "colab": {
          "base_uri": "https://localhost:8080/"
        },
        "id": "N5e1wmzo8O2W",
        "outputId": "24f55d01-fbde-486a-9877-0ba8deda9fe5"
      },
      "execution_count": null,
      "outputs": [
        {
          "output_type": "stream",
          "name": "stdout",
          "text": [
            "Epoch 1/10\n",
            "235/235 [==============================] - 1s 2ms/step - loss: 0.0016 - accuracy: 0.9996\n",
            "Epoch 2/10\n",
            "235/235 [==============================] - 0s 2ms/step - loss: 3.9940e-04 - accuracy: 0.9996\n",
            "Epoch 3/10\n",
            "235/235 [==============================] - 0s 2ms/step - loss: 3.9928e-04 - accuracy: 0.9996\n",
            "Epoch 4/10\n",
            "235/235 [==============================] - 0s 2ms/step - loss: 3.9919e-04 - accuracy: 0.9996\n",
            "Epoch 5/10\n",
            "235/235 [==============================] - 0s 2ms/step - loss: 3.9914e-04 - accuracy: 0.9996\n",
            "Epoch 6/10\n",
            "235/235 [==============================] - 0s 2ms/step - loss: 3.9910e-04 - accuracy: 0.9996\n",
            "Epoch 7/10\n",
            "235/235 [==============================] - 0s 2ms/step - loss: 3.9908e-04 - accuracy: 0.9996\n",
            "Epoch 8/10\n",
            "235/235 [==============================] - 0s 2ms/step - loss: 3.9906e-04 - accuracy: 0.9996\n",
            "Epoch 9/10\n",
            "235/235 [==============================] - 0s 2ms/step - loss: 3.9904e-04 - accuracy: 0.9996\n",
            "Epoch 10/10\n",
            "235/235 [==============================] - 0s 2ms/step - loss: 3.9902e-04 - accuracy: 0.9996\n",
            "269/269 [==============================] - 1s 1ms/step - loss: 0.4994 - accuracy: 0.4999\n",
            "[0.49939078092575073, 0.49994179606437683]\n"
          ]
        }
      ]
    },
    {
      "cell_type": "code",
      "source": [
        "pred = model.predict(totalX)\n",
        "prediction = np.around(pred)\n",
        "cm = confusion_matrix(totaly, prediction)\n",
        "disp = ConfusionMatrixDisplay(cm)\n",
        "disp.plot()"
      ],
      "metadata": {
        "colab": {
          "base_uri": "https://localhost:8080/",
          "height": 484
        },
        "id": "kJivodS88-4F",
        "outputId": "e15d0705-f92a-40dd-c167-aeb98f470403"
      },
      "execution_count": null,
      "outputs": [
        {
          "output_type": "stream",
          "name": "stdout",
          "text": [
            "269/269 [==============================] - 0s 1ms/step\n"
          ]
        },
        {
          "output_type": "execute_result",
          "data": {
            "text/plain": [
              "<sklearn.metrics._plot.confusion_matrix.ConfusionMatrixDisplay at 0x7fae4d325cf0>"
            ]
          },
          "metadata": {},
          "execution_count": 16
        },
        {
          "output_type": "display_data",
          "data": {
            "text/plain": [
              "<Figure size 640x480 with 2 Axes>"
            ],
            "image/png": "[encoded data removed]"
          },
          "metadata": {}
        }
      ]
    }
  ]
}