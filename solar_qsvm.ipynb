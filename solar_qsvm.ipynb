{
  "cells": [
    {
      "cell_type": "code",
      "execution_count": null,
      "metadata": {
        "id": "XhmzI6Wln4eG"
      },
      "outputs": [],
      "source": [
        "# required to run in google colab\n",
        "!pip install qiskit qiskit_machine_learning qiskit_ibm_runtime"
      ]
    },
    {
      "cell_type": "code",
      "execution_count": 2,
      "metadata": {
        "id": "LfuzAXjkoO0e"
      },
      "outputs": [],
      "source": [
        "import matplotlib.pyplot as plt\n",
        "import numpy as np\n",
        "from qiskit_machine_learning.datasets import ad_hoc_data\n",
        "from qiskit_ibm_runtime import QiskitRuntimeService, Session, Sampler, Options\n",
        "from qiskit import BasicAer, QuantumCircuit\n",
        "from qiskit.utils import QuantumInstance\n",
        "from qiskit.visualization import circuit_drawer\n",
        "from qiskit.circuit.library import ZZFeatureMap, ZFeatureMap\n",
        "from qiskit.circuit import ParameterVector\n",
        "from qiskit_machine_learning.algorithms import QSVC\n",
        "from qiskit.algorithms.state_fidelities import ComputeUncompute\n",
        "from qiskit_machine_learning.kernels import FidelityQuantumKernel\n",
        "from sklearn.metrics import confusion_matrix, ConfusionMatrixDisplay\n",
        "from sklearn.datasets import make_blobs\n",
        "from sklearn.preprocessing import normalize\n",
        "from sklearn.model_selection import train_test_split\n",
        "from sklearn.utils import shuffle\n",
        "import pandas as pd"
      ]
    },
    {
      "cell_type": "code",
      "execution_count": 3,
      "metadata": {
        "id": "OlSDSnd9q3Fu"
      },
      "outputs": [],
      "source": [
        "# you first need to upload the fault.txt and faultlabel.txt files by clicking the file icon on the left and uploading\n",
        "X = pd.read_csv(\"fault.txt\", sep='\\t')\n",
        "y = pd.read_csv(\"faultlabel.txt\", sep='\\t')\n",
        "X = X.to_numpy()\n",
        "y = y.to_numpy()\n",
        "X, y = shuffle(X, y)\n",
        "X = X[:200]\n",
        "y = y[:200]\n",
        "y = list(map(np.argmax, y)) # convert one hot outputs to binary labelling\n",
        "X_train, X_test, y_train, y_test = train_test_split(X, y, test_size=0.25)"
      ]
    },
    {
      "cell_type": "code",
      "source": [
        "feature_map = ZZFeatureMap(9, reps=2)\n",
        "kernel = FidelityQuantumKernel(feature_map=feature_map)"
      ],
      "metadata": {
        "id": "sGRNIYvasbGj"
      },
      "execution_count": 4,
      "outputs": []
    },
    {
      "cell_type": "code",
      "execution_count": 5,
      "metadata": {
        "id": "tJmCbrLorAQf"
      },
      "outputs": [],
      "source": [
        "# you can find your api token on the home page of ibm quantum right after you log in\n",
        "# uncomment everything below to run on ibm quantum simulator or leave it commented to simulate locally\n",
        "\n",
        "# token=\"PASTE IBM QUANTUM API TOKEN HERE\"\n",
        "# service = QiskitRuntimeService(channel=\"ibm_quantum\", instance=\"ibm-q-asu/main/spanias\", token=token)\n",
        "# options = Options(optimization_level=1)\n",
        "# session = Session(service=service, backend=\"ibmq_qasm_simulator\")\n",
        "# sampler = Sampler(session=session, options=options)\n",
        "# fidelity = ComputeUncompute(sampler=sampler)\n",
        "# kernel = FidelityQuantumKernel(feature_map=feature_map, fidelity=fidelity)"
      ]
    },
    {
      "cell_type": "code",
      "execution_count": null,
      "metadata": {
        "id": "lS2yYOFXqkc0"
      },
      "outputs": [],
      "source": [
        "svm = QSVC(quantum_kernel=kernel)\n",
        "svm.fit(X_train, y_train)"
      ]
    },
    {
      "cell_type": "code",
      "execution_count": null,
      "metadata": {
        "id": "uIbe-QWfrgcq"
      },
      "outputs": [],
      "source": [
        "outputs = svm.predict(X_test)\n",
        "cm = confusion_matrix(y_test, outputs)\n",
        "disp = ConfusionMatrixDisplay(cm)\n",
        "disp.plot()"
      ]
    }
  ],
  "metadata": {
    "accelerator": "TPU",
    "colab": {
      "provenance": []
    },
    "kernelspec": {
      "display_name": "Python 3",
      "name": "python3"
    },
    "language_info": {
      "name": "python"
    }
  },
  "nbformat": 4,
  "nbformat_minor": 0
}